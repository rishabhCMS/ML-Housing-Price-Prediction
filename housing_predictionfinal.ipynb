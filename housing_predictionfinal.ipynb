{
 "cells": [
  {
   "cell_type": "code",
   "execution_count": 1,
   "metadata": {},
   "outputs": [],
   "source": [
    "import pandas as pd\n",
    "import matplotlib.pyplot as plt\n",
    "import numpy as np\n",
    "import seaborn as sns\n",
    "%matplotlib inline"
   ]
  },
  {
   "cell_type": "code",
   "execution_count": 2,
   "metadata": {},
   "outputs": [],
   "source": [
    "df = pd.read_csv(\"data.csv\")"
   ]
  },
  {
   "cell_type": "code",
   "execution_count": 3,
   "metadata": {},
   "outputs": [
    {
     "name": "stdout",
     "output_type": "stream",
     "text": [
      "<class 'pandas.core.frame.DataFrame'>\n",
      "RangeIndex: 1460 entries, 0 to 1459\n",
      "Data columns (total 81 columns):\n",
      "Id               1460 non-null int64\n",
      "MSSubClass       1460 non-null int64\n",
      "MSZoning         1460 non-null object\n",
      "LotFrontage      1201 non-null float64\n",
      "LotArea          1460 non-null int64\n",
      "Street           1460 non-null object\n",
      "Alley            91 non-null object\n",
      "LotShape         1460 non-null object\n",
      "LandContour      1460 non-null object\n",
      "Utilities        1460 non-null object\n",
      "LotConfig        1460 non-null object\n",
      "LandSlope        1460 non-null object\n",
      "Neighborhood     1460 non-null object\n",
      "Condition1       1460 non-null object\n",
      "Condition2       1460 non-null object\n",
      "BldgType         1460 non-null object\n",
      "HouseStyle       1460 non-null object\n",
      "OverallQual      1460 non-null int64\n",
      "OverallCond      1460 non-null int64\n",
      "YearBuilt        1460 non-null int64\n",
      "YearRemodAdd     1460 non-null int64\n",
      "RoofStyle        1460 non-null object\n",
      "RoofMatl         1460 non-null object\n",
      "Exterior1st      1460 non-null object\n",
      "Exterior2nd      1460 non-null object\n",
      "MasVnrType       1452 non-null object\n",
      "MasVnrArea       1452 non-null float64\n",
      "ExterQual        1460 non-null object\n",
      "ExterCond        1460 non-null object\n",
      "Foundation       1460 non-null object\n",
      "BsmtQual         1423 non-null object\n",
      "BsmtCond         1423 non-null object\n",
      "BsmtExposure     1422 non-null object\n",
      "BsmtFinType1     1423 non-null object\n",
      "BsmtFinSF1       1460 non-null int64\n",
      "BsmtFinType2     1422 non-null object\n",
      "BsmtFinSF2       1460 non-null int64\n",
      "BsmtUnfSF        1460 non-null int64\n",
      "TotalBsmtSF      1460 non-null int64\n",
      "Heating          1460 non-null object\n",
      "HeatingQC        1460 non-null object\n",
      "CentralAir       1460 non-null object\n",
      "Electrical       1459 non-null object\n",
      "1stFlrSF         1460 non-null int64\n",
      "2ndFlrSF         1460 non-null int64\n",
      "LowQualFinSF     1460 non-null int64\n",
      "GrLivArea        1460 non-null int64\n",
      "BsmtFullBath     1460 non-null int64\n",
      "BsmtHalfBath     1460 non-null int64\n",
      "FullBath         1460 non-null int64\n",
      "HalfBath         1460 non-null int64\n",
      "BedroomAbvGr     1460 non-null int64\n",
      "KitchenAbvGr     1460 non-null int64\n",
      "KitchenQual      1460 non-null object\n",
      "TotRmsAbvGrd     1460 non-null int64\n",
      "Functional       1460 non-null object\n",
      "Fireplaces       1460 non-null int64\n",
      "FireplaceQu      770 non-null object\n",
      "GarageType       1379 non-null object\n",
      "GarageYrBlt      1379 non-null float64\n",
      "GarageFinish     1379 non-null object\n",
      "GarageCars       1460 non-null int64\n",
      "GarageArea       1460 non-null int64\n",
      "GarageQual       1379 non-null object\n",
      "GarageCond       1379 non-null object\n",
      "PavedDrive       1460 non-null object\n",
      "WoodDeckSF       1460 non-null int64\n",
      "OpenPorchSF      1460 non-null int64\n",
      "EnclosedPorch    1460 non-null int64\n",
      "3SsnPorch        1460 non-null int64\n",
      "ScreenPorch      1460 non-null int64\n",
      "PoolArea         1460 non-null int64\n",
      "PoolQC           7 non-null object\n",
      "Fence            281 non-null object\n",
      "MiscFeature      54 non-null object\n",
      "MiscVal          1460 non-null int64\n",
      "MoSold           1460 non-null int64\n",
      "YrSold           1460 non-null int64\n",
      "SaleType         1460 non-null object\n",
      "SaleCondition    1460 non-null object\n",
      "SalePrice        1460 non-null int64\n",
      "dtypes: float64(3), int64(35), object(43)\n",
      "memory usage: 924.0+ KB\n"
     ]
    }
   ],
   "source": [
    "df.info()"
   ]
  },
  {
   "cell_type": "code",
   "execution_count": null,
   "metadata": {},
   "outputs": [],
   "source": []
  },
  {
   "cell_type": "markdown",
   "metadata": {},
   "source": [
    "### Data Cleaning"
   ]
  },
  {
   "cell_type": "code",
   "execution_count": 4,
   "metadata": {},
   "outputs": [
    {
     "data": {
      "text/plain": [
       "['LotFrontage',\n",
       " 'Alley',\n",
       " 'MasVnrType',\n",
       " 'MasVnrArea',\n",
       " 'BsmtQual',\n",
       " 'BsmtCond',\n",
       " 'BsmtExposure',\n",
       " 'BsmtFinType1',\n",
       " 'BsmtFinType2',\n",
       " 'Electrical',\n",
       " 'FireplaceQu',\n",
       " 'GarageType',\n",
       " 'GarageYrBlt',\n",
       " 'GarageFinish',\n",
       " 'GarageQual',\n",
       " 'GarageCond',\n",
       " 'PoolQC',\n",
       " 'Fence',\n",
       " 'MiscFeature']"
      ]
     },
     "execution_count": 4,
     "metadata": {},
     "output_type": "execute_result"
    }
   ],
   "source": [
    "# finding features containing null values\n",
    "i = df.columns[df.isnull().any()].tolist()\n",
    "i"
   ]
  },
  {
   "cell_type": "code",
   "execution_count": 5,
   "metadata": {},
   "outputs": [],
   "source": [
    "#dropping features like MiscFeature, Fence, PoolQC, FireplaceQu and Alley bc more than 50% of the instances are\n",
    "# are missing from these features\n",
    "df.drop(columns=[\"MiscFeature\",\"PoolQC\",\"Alley\", \"Fence\",\"FireplaceQu\" ],axis=1, inplace=True)"
   ]
  },
  {
   "cell_type": "code",
   "execution_count": 6,
   "metadata": {},
   "outputs": [],
   "source": [
    "#df.drop(columns=[\"Id\" ],axis=1, inplace=True)"
   ]
  },
  {
   "cell_type": "code",
   "execution_count": 7,
   "metadata": {},
   "outputs": [
    {
     "data": {
      "text/plain": [
       "['LotFrontage',\n",
       " 'MasVnrType',\n",
       " 'MasVnrArea',\n",
       " 'BsmtQual',\n",
       " 'BsmtCond',\n",
       " 'BsmtExposure',\n",
       " 'BsmtFinType1',\n",
       " 'BsmtFinType2',\n",
       " 'Electrical',\n",
       " 'GarageType',\n",
       " 'GarageYrBlt',\n",
       " 'GarageFinish',\n",
       " 'GarageQual',\n",
       " 'GarageCond']"
      ]
     },
     "execution_count": 7,
     "metadata": {},
     "output_type": "execute_result"
    }
   ],
   "source": [
    "i = df.columns[df.isnull().any()].tolist()\n",
    "i"
   ]
  },
  {
   "cell_type": "code",
   "execution_count": 8,
   "metadata": {},
   "outputs": [
    {
     "name": "stdout",
     "output_type": "stream",
     "text": [
      "<class 'pandas.core.frame.DataFrame'>\n",
      "RangeIndex: 1460 entries, 0 to 1459\n",
      "Data columns (total 14 columns):\n",
      "LotFrontage     1201 non-null float64\n",
      "MasVnrType      1452 non-null object\n",
      "MasVnrArea      1452 non-null float64\n",
      "BsmtQual        1423 non-null object\n",
      "BsmtCond        1423 non-null object\n",
      "BsmtExposure    1422 non-null object\n",
      "BsmtFinType1    1423 non-null object\n",
      "BsmtFinType2    1422 non-null object\n",
      "Electrical      1459 non-null object\n",
      "GarageType      1379 non-null object\n",
      "GarageYrBlt     1379 non-null float64\n",
      "GarageFinish    1379 non-null object\n",
      "GarageQual      1379 non-null object\n",
      "GarageCond      1379 non-null object\n",
      "dtypes: float64(3), object(11)\n",
      "memory usage: 159.8+ KB\n"
     ]
    }
   ],
   "source": [
    "df[i].info()"
   ]
  },
  {
   "cell_type": "code",
   "execution_count": 9,
   "metadata": {},
   "outputs": [],
   "source": [
    "# LotFrontage\n",
    "mean_lf = df[\"LotFrontage\"].mean()\n",
    "df[\"LotFrontage\"] = df[\"LotFrontage\"].fillna(mean_lf)"
   ]
  },
  {
   "cell_type": "code",
   "execution_count": 10,
   "metadata": {},
   "outputs": [],
   "source": [
    "df.dropna(inplace=True)"
   ]
  },
  {
   "cell_type": "code",
   "execution_count": 11,
   "metadata": {},
   "outputs": [
    {
     "name": "stdout",
     "output_type": "stream",
     "text": [
      "<class 'pandas.core.frame.DataFrame'>\n",
      "Int64Index: 1338 entries, 0 to 1459\n",
      "Data columns (total 76 columns):\n",
      "Id               1338 non-null int64\n",
      "MSSubClass       1338 non-null int64\n",
      "MSZoning         1338 non-null object\n",
      "LotFrontage      1338 non-null float64\n",
      "LotArea          1338 non-null int64\n",
      "Street           1338 non-null object\n",
      "LotShape         1338 non-null object\n",
      "LandContour      1338 non-null object\n",
      "Utilities        1338 non-null object\n",
      "LotConfig        1338 non-null object\n",
      "LandSlope        1338 non-null object\n",
      "Neighborhood     1338 non-null object\n",
      "Condition1       1338 non-null object\n",
      "Condition2       1338 non-null object\n",
      "BldgType         1338 non-null object\n",
      "HouseStyle       1338 non-null object\n",
      "OverallQual      1338 non-null int64\n",
      "OverallCond      1338 non-null int64\n",
      "YearBuilt        1338 non-null int64\n",
      "YearRemodAdd     1338 non-null int64\n",
      "RoofStyle        1338 non-null object\n",
      "RoofMatl         1338 non-null object\n",
      "Exterior1st      1338 non-null object\n",
      "Exterior2nd      1338 non-null object\n",
      "MasVnrType       1338 non-null object\n",
      "MasVnrArea       1338 non-null float64\n",
      "ExterQual        1338 non-null object\n",
      "ExterCond        1338 non-null object\n",
      "Foundation       1338 non-null object\n",
      "BsmtQual         1338 non-null object\n",
      "BsmtCond         1338 non-null object\n",
      "BsmtExposure     1338 non-null object\n",
      "BsmtFinType1     1338 non-null object\n",
      "BsmtFinSF1       1338 non-null int64\n",
      "BsmtFinType2     1338 non-null object\n",
      "BsmtFinSF2       1338 non-null int64\n",
      "BsmtUnfSF        1338 non-null int64\n",
      "TotalBsmtSF      1338 non-null int64\n",
      "Heating          1338 non-null object\n",
      "HeatingQC        1338 non-null object\n",
      "CentralAir       1338 non-null object\n",
      "Electrical       1338 non-null object\n",
      "1stFlrSF         1338 non-null int64\n",
      "2ndFlrSF         1338 non-null int64\n",
      "LowQualFinSF     1338 non-null int64\n",
      "GrLivArea        1338 non-null int64\n",
      "BsmtFullBath     1338 non-null int64\n",
      "BsmtHalfBath     1338 non-null int64\n",
      "FullBath         1338 non-null int64\n",
      "HalfBath         1338 non-null int64\n",
      "BedroomAbvGr     1338 non-null int64\n",
      "KitchenAbvGr     1338 non-null int64\n",
      "KitchenQual      1338 non-null object\n",
      "TotRmsAbvGrd     1338 non-null int64\n",
      "Functional       1338 non-null object\n",
      "Fireplaces       1338 non-null int64\n",
      "GarageType       1338 non-null object\n",
      "GarageYrBlt      1338 non-null float64\n",
      "GarageFinish     1338 non-null object\n",
      "GarageCars       1338 non-null int64\n",
      "GarageArea       1338 non-null int64\n",
      "GarageQual       1338 non-null object\n",
      "GarageCond       1338 non-null object\n",
      "PavedDrive       1338 non-null object\n",
      "WoodDeckSF       1338 non-null int64\n",
      "OpenPorchSF      1338 non-null int64\n",
      "EnclosedPorch    1338 non-null int64\n",
      "3SsnPorch        1338 non-null int64\n",
      "ScreenPorch      1338 non-null int64\n",
      "PoolArea         1338 non-null int64\n",
      "MiscVal          1338 non-null int64\n",
      "MoSold           1338 non-null int64\n",
      "YrSold           1338 non-null int64\n",
      "SaleType         1338 non-null object\n",
      "SaleCondition    1338 non-null object\n",
      "SalePrice        1338 non-null int64\n",
      "dtypes: float64(3), int64(35), object(38)\n",
      "memory usage: 804.9+ KB\n"
     ]
    }
   ],
   "source": [
    "df.info()"
   ]
  },
  {
   "cell_type": "code",
   "execution_count": 12,
   "metadata": {},
   "outputs": [],
   "source": [
    "df.drop(columns=[\"Id\"],axis=1, inplace=True)"
   ]
  },
  {
   "cell_type": "code",
   "execution_count": null,
   "metadata": {},
   "outputs": [],
   "source": []
  },
  {
   "cell_type": "code",
   "execution_count": 13,
   "metadata": {},
   "outputs": [],
   "source": [
    "# so, now our data is free from null values"
   ]
  },
  {
   "cell_type": "markdown",
   "metadata": {},
   "source": [
    "### Part1. Seperating test data and training data into different .csv files"
   ]
  },
  {
   "cell_type": "raw",
   "metadata": {},
   "source": [
    "#using one hot encode to \n",
    " df1 = pd.get_dummies(df)"
   ]
  },
  {
   "cell_type": "raw",
   "metadata": {},
   "source": [
    "def sort_print_csv(df):\n",
    "    a = len(df)*.8 # 80% of the total size of the dataset\n",
    "    df = df.sample(frac=1).reset_index(drop=True) #drop=True prevents .reset_index from creating a column containing the old index entries.\n",
    "    df_train = df.loc[:a]\n",
    "    df_train.to_csv('data_train.csv',encoding='utf-8', index=False)\n",
    "    df_test = df.loc[a:]\n",
    "    df_test.to_csv('data_test.csv',encoding='utf-8', index=False)"
   ]
  },
  {
   "cell_type": "raw",
   "metadata": {},
   "source": [
    "sort_print_csv(df)"
   ]
  },
  {
   "cell_type": "raw",
   "metadata": {},
   "source": [
    "ls"
   ]
  },
  {
   "cell_type": "markdown",
   "metadata": {},
   "source": [
    "### Part 2: the Classifiers"
   ]
  },
  {
   "cell_type": "markdown",
   "metadata": {},
   "source": [
    "   #### Linear Regression \n",
    "       before we start since we know that Machine Learning algorithm( Linear Regression) doesn't behave well with categorical data. \n",
    "       so, we  need to conver the categorical data to one-hot encode representation"
   ]
  },
  {
   "cell_type": "markdown",
   "metadata": {},
   "source": [
    "So, using the ohe method in the \"categorical_encoder\" lib"
   ]
  },
  {
   "cell_type": "raw",
   "metadata": {},
   "source": [
    "#https://medium.com/hugo-ferreiras-blog/dealing-with-categorical-features-in-machine-learning-1bb70f07262d\n",
    "#http://contrib.scikit-learn.org/categorical-encoding/onehot.html"
   ]
  },
  {
   "cell_type": "raw",
   "metadata": {},
   "source": [
    "df_train = pd.read_csv(\"data_train.csv\")\n",
    "df_test = pd.read_csv(\"data_test.csv\")"
   ]
  },
  {
   "cell_type": "raw",
   "metadata": {},
   "source": [
    "cols_numeric = df.select_dtypes(exclude=[object]).columns.tolist()\n",
    "cols_obj = df.select_dtypes(exclude=[np.int, np.float]).columns.tolist()\n"
   ]
  },
  {
   "cell_type": "code",
   "execution_count": null,
   "metadata": {},
   "outputs": [],
   "source": []
  },
  {
   "cell_type": "raw",
   "metadata": {},
   "source": [
    "df_test_obj = df_test[cols_obj]\n",
    "df_test_numeric = df_test[cols_numeric]\n",
    "\n",
    "df_train_obj = df_train[cols_obj]\n",
    "df_train_numeric = df_train[cols_numeric]\n"
   ]
  },
  {
   "cell_type": "code",
   "execution_count": null,
   "metadata": {},
   "outputs": [],
   "source": []
  },
  {
   "cell_type": "markdown",
   "metadata": {},
   "source": [
    "#### Normalization before ohe"
   ]
  },
  {
   "cell_type": "raw",
   "metadata": {},
   "source": [
    "#Normalizing using Sk-learn\n",
    "from sklearn.preprocessing import MinMaxScaler\n"
   ]
  },
  {
   "cell_type": "raw",
   "metadata": {},
   "source": [
    "scalar = MinMaxScaler()\n",
    "df_test_norm_numeric = scalar.fit_transform(df_test_numeric)\n",
    "df_train_norm_numeric = scalar.fit_transform(df_train_numeric)"
   ]
  },
  {
   "cell_type": "raw",
   "metadata": {},
   "source": [
    "scaled_features_df_test = pd.DataFrame(df_test_norm_numeric, index=df_test_numeric.index, \n",
    "                                       columns=df_test_numeric.columns)\n",
    "\n",
    "scaled_features_df_train = pd.DataFrame(df_train_norm_numeric, index=df_train_numeric.index, \n",
    "                                       columns=df_train_numeric.columns)\n"
   ]
  },
  {
   "cell_type": "raw",
   "metadata": {},
   "source": [
    "df_test_norm_numeric.shape"
   ]
  },
  {
   "cell_type": "raw",
   "metadata": {},
   "source": [
    "df_test_norm  = pd.concat([scaled_features_df_test, df_test_obj],axis=1, join='inner')\n",
    "df_train_norm  = pd.concat([scaled_features_df_train, df_train_obj],axis=1, join='inner')"
   ]
  },
  {
   "cell_type": "raw",
   "metadata": {},
   "source": [
    "df_test_norm.info()"
   ]
  },
  {
   "cell_type": "raw",
   "metadata": {},
   "source": [
    "df_train_norm.info()"
   ]
  },
  {
   "cell_type": "raw",
   "metadata": {},
   "source": [
    "df_train_norm[\"SalePrice\"]"
   ]
  },
  {
   "cell_type": "raw",
   "metadata": {},
   "source": [
    "import category_encoders as ce"
   ]
  },
  {
   "cell_type": "raw",
   "metadata": {},
   "source": [
    "#ohe = ce.OneHotEncoder(return_df=True, handle_unknown=\"ignore\", use_cat_names=True)\n",
    "print(df_train_norm.shape,df_test_norm.shape)\n",
    "df_train_ohe = pd.get_dummies(df_train_norm)\n",
    "df_test_ohe = pd.get_dummies(df_test_norm)"
   ]
  },
  {
   "cell_type": "raw",
   "metadata": {},
   "source": [
    "\n",
    "df_train_ohe.shape"
   ]
  },
  {
   "cell_type": "raw",
   "metadata": {},
   "source": [
    "df_test_ohe.shape"
   ]
  },
  {
   "cell_type": "markdown",
   "metadata": {},
   "source": [
    "#### testing the model for linear regression"
   ]
  },
  {
   "cell_type": "raw",
   "metadata": {},
   "source": [
    "# So, now that training and test data are both normalized and onehot encoded lets test some models"
   ]
  },
  {
   "cell_type": "raw",
   "metadata": {},
   "source": [
    "y_train = df_train_ohe[\"SalePrice\"]\n",
    "y_test = df_test_ohe[\"SalePrice\"]\n",
    "df_train_ohe.drop(columns=[\"SalePrice\"],axis=1, inplace=True)\n",
    "df_test_ohe.drop(columns=[\"SalePrice\"],axis=1, inplace=True)"
   ]
  },
  {
   "cell_type": "raw",
   "metadata": {},
   "source": [
    "# taking out the validation set from the training set\n",
    "df_train_ohe\n",
    "\n",
    "# now splitting the training set in to partial training set and validtion set\n",
    "m = round(len(X_)* .1) # 10 percent of the training set\n",
    "X_val_train = df_train_ohe[:m]\n",
    "partial_df_train_ohe = df_train_ohe[m:]\n",
    "y_val_test = df_train_ohe[:m]\n",
    "partial_y_train = y_train[m:]"
   ]
  },
  {
   "cell_type": "raw",
   "metadata": {},
   "source": [
    "df_test_ohe.shape"
   ]
  },
  {
   "cell_type": "code",
   "execution_count": null,
   "metadata": {},
   "outputs": [],
   "source": []
  },
  {
   "cell_type": "raw",
   "metadata": {},
   "source": [
    "from sklearn.linear_model import LinearRegression\n",
    "lin_reg = LinearRegression()\n",
    "lin_reg.fit(df_train_ohe,y_train)\n"
   ]
  },
  {
   "cell_type": "raw",
   "metadata": {},
   "source": [
    "y_predict = lin_reg.predict(df_test_ohe)"
   ]
  },
  {
   "cell_type": "raw",
   "metadata": {},
   "source": [
    "(1 – tolerance) * realPrice <= predictedPrice <= (1 + tolerance) * realPrice"
   ]
  },
  {
   "cell_type": "raw",
   "metadata": {},
   "source": [
    "#for i in [i*0.05 for i in range(0,21)]:\n",
    "#    print(i)"
   ]
  },
  {
   "cell_type": "raw",
   "metadata": {},
   "source": [
    "for i in np.arange(0,1,0.05):\n",
    "    for j in y_predict"
   ]
  },
  {
   "cell_type": "code",
   "execution_count": 14,
   "metadata": {},
   "outputs": [
    {
     "name": "stdout",
     "output_type": "stream",
     "text": [
      "<class 'pandas.core.frame.DataFrame'>\n",
      "Int64Index: 1338 entries, 0 to 1459\n",
      "Data columns (total 75 columns):\n",
      "MSSubClass       1338 non-null int64\n",
      "MSZoning         1338 non-null object\n",
      "LotFrontage      1338 non-null float64\n",
      "LotArea          1338 non-null int64\n",
      "Street           1338 non-null object\n",
      "LotShape         1338 non-null object\n",
      "LandContour      1338 non-null object\n",
      "Utilities        1338 non-null object\n",
      "LotConfig        1338 non-null object\n",
      "LandSlope        1338 non-null object\n",
      "Neighborhood     1338 non-null object\n",
      "Condition1       1338 non-null object\n",
      "Condition2       1338 non-null object\n",
      "BldgType         1338 non-null object\n",
      "HouseStyle       1338 non-null object\n",
      "OverallQual      1338 non-null int64\n",
      "OverallCond      1338 non-null int64\n",
      "YearBuilt        1338 non-null int64\n",
      "YearRemodAdd     1338 non-null int64\n",
      "RoofStyle        1338 non-null object\n",
      "RoofMatl         1338 non-null object\n",
      "Exterior1st      1338 non-null object\n",
      "Exterior2nd      1338 non-null object\n",
      "MasVnrType       1338 non-null object\n",
      "MasVnrArea       1338 non-null float64\n",
      "ExterQual        1338 non-null object\n",
      "ExterCond        1338 non-null object\n",
      "Foundation       1338 non-null object\n",
      "BsmtQual         1338 non-null object\n",
      "BsmtCond         1338 non-null object\n",
      "BsmtExposure     1338 non-null object\n",
      "BsmtFinType1     1338 non-null object\n",
      "BsmtFinSF1       1338 non-null int64\n",
      "BsmtFinType2     1338 non-null object\n",
      "BsmtFinSF2       1338 non-null int64\n",
      "BsmtUnfSF        1338 non-null int64\n",
      "TotalBsmtSF      1338 non-null int64\n",
      "Heating          1338 non-null object\n",
      "HeatingQC        1338 non-null object\n",
      "CentralAir       1338 non-null object\n",
      "Electrical       1338 non-null object\n",
      "1stFlrSF         1338 non-null int64\n",
      "2ndFlrSF         1338 non-null int64\n",
      "LowQualFinSF     1338 non-null int64\n",
      "GrLivArea        1338 non-null int64\n",
      "BsmtFullBath     1338 non-null int64\n",
      "BsmtHalfBath     1338 non-null int64\n",
      "FullBath         1338 non-null int64\n",
      "HalfBath         1338 non-null int64\n",
      "BedroomAbvGr     1338 non-null int64\n",
      "KitchenAbvGr     1338 non-null int64\n",
      "KitchenQual      1338 non-null object\n",
      "TotRmsAbvGrd     1338 non-null int64\n",
      "Functional       1338 non-null object\n",
      "Fireplaces       1338 non-null int64\n",
      "GarageType       1338 non-null object\n",
      "GarageYrBlt      1338 non-null float64\n",
      "GarageFinish     1338 non-null object\n",
      "GarageCars       1338 non-null int64\n",
      "GarageArea       1338 non-null int64\n",
      "GarageQual       1338 non-null object\n",
      "GarageCond       1338 non-null object\n",
      "PavedDrive       1338 non-null object\n",
      "WoodDeckSF       1338 non-null int64\n",
      "OpenPorchSF      1338 non-null int64\n",
      "EnclosedPorch    1338 non-null int64\n",
      "3SsnPorch        1338 non-null int64\n",
      "ScreenPorch      1338 non-null int64\n",
      "PoolArea         1338 non-null int64\n",
      "MiscVal          1338 non-null int64\n",
      "MoSold           1338 non-null int64\n",
      "YrSold           1338 non-null int64\n",
      "SaleType         1338 non-null object\n",
      "SaleCondition    1338 non-null object\n",
      "SalePrice        1338 non-null int64\n",
      "dtypes: float64(3), int64(34), object(38)\n",
      "memory usage: 794.4+ KB\n"
     ]
    }
   ],
   "source": [
    "df.info()"
   ]
  },
  {
   "cell_type": "markdown",
   "metadata": {},
   "source": [
    "# Checking the skewness of clean data"
   ]
  },
  {
   "cell_type": "code",
   "execution_count": 15,
   "metadata": {},
   "outputs": [],
   "source": [
    "from scipy import stats"
   ]
  },
  {
   "cell_type": "code",
   "execution_count": 16,
   "metadata": {},
   "outputs": [
    {
     "data": {
      "text/plain": [
       "<matplotlib.legend.Legend at 0x7f57d264ffd0>"
      ]
     },
     "execution_count": 16,
     "metadata": {},
     "output_type": "execute_result"
    },
    {
     "data": {
      "image/png": "[encoded data removed]",
      "text/plain": [
       "<Figure size 432x288 with 1 Axes>"
      ]
     },
     "metadata": {
      "needs_background": "light"
     },
     "output_type": "display_data"
    }
   ],
   "source": [
    "(mu, sigma) = stats.norm.fit(df[\"SalePrice\"])\n",
    "sns.distplot(df[\"SalePrice\"],fit=stats.norm, label= [\"before normal dist. fit ($\\mu=${0:.2g}, $\\sigma=${1:.2f})\".format(mu, sigma)])\n",
    "plt.legend()"
   ]
  },
  {
   "cell_type": "code",
   "execution_count": 17,
   "metadata": {},
   "outputs": [],
   "source": [
    "skewed_features = df.skew().sort_values(ascending=False)"
   ]
  },
  {
   "cell_type": "code",
   "execution_count": 18,
   "metadata": {},
   "outputs": [],
   "source": [
    "skewness_df = pd.DataFrame({'Skewed Features' :skewed_features})"
   ]
  },
  {
   "cell_type": "code",
   "execution_count": 19,
   "metadata": {},
   "outputs": [
    {
     "data": {
      "text/html": [
       "<div>\n",
       "<style scoped>\n",
       "    .dataframe tbody tr th:only-of-type {\n",
       "        vertical-align: middle;\n",
       "    }\n",
       "\n",
       "    .dataframe tbody tr th {\n",
       "        vertical-align: top;\n",
       "    }\n",
       "\n",
       "    .dataframe thead th {\n",
       "        text-align: right;\n",
       "    }\n",
       "</style>\n",
       "<table border=\"1\" class=\"dataframe\">\n",
       "  <thead>\n",
       "    <tr style=\"text-align: right;\">\n",
       "      <th></th>\n",
       "      <th>Skewed Features</th>\n",
       "    </tr>\n",
       "  </thead>\n",
       "  <tbody>\n",
       "    <tr>\n",
       "      <th>MiscVal</th>\n",
       "      <td>24.632578</td>\n",
       "    </tr>\n",
       "    <tr>\n",
       "      <th>PoolArea</th>\n",
       "      <td>14.187832</td>\n",
       "    </tr>\n",
       "    <tr>\n",
       "      <th>LotArea</th>\n",
       "      <td>11.938124</td>\n",
       "    </tr>\n",
       "    <tr>\n",
       "      <th>LowQualFinSF</th>\n",
       "      <td>10.566815</td>\n",
       "    </tr>\n",
       "    <tr>\n",
       "      <th>3SsnPorch</th>\n",
       "      <td>10.096553</td>\n",
       "    </tr>\n",
       "    <tr>\n",
       "      <th>KitchenAbvGr</th>\n",
       "      <td>5.943561</td>\n",
       "    </tr>\n",
       "    <tr>\n",
       "      <th>BsmtFinSF2</th>\n",
       "      <td>4.146519</td>\n",
       "    </tr>\n",
       "    <tr>\n",
       "      <th>ScreenPorch</th>\n",
       "      <td>3.916848</td>\n",
       "    </tr>\n",
       "    <tr>\n",
       "      <th>BsmtHalfBath</th>\n",
       "      <td>3.847909</td>\n",
       "    </tr>\n",
       "    <tr>\n",
       "      <th>EnclosedPorch</th>\n",
       "      <td>3.205286</td>\n",
       "    </tr>\n",
       "    <tr>\n",
       "      <th>MasVnrArea</th>\n",
       "      <td>2.582685</td>\n",
       "    </tr>\n",
       "    <tr>\n",
       "      <th>LotFrontage</th>\n",
       "      <td>2.479517</td>\n",
       "    </tr>\n",
       "    <tr>\n",
       "      <th>OpenPorchSF</th>\n",
       "      <td>2.250952</td>\n",
       "    </tr>\n",
       "    <tr>\n",
       "      <th>TotalBsmtSF</th>\n",
       "      <td>2.214029</td>\n",
       "    </tr>\n",
       "    <tr>\n",
       "      <th>SalePrice</th>\n",
       "      <td>1.943686</td>\n",
       "    </tr>\n",
       "    <tr>\n",
       "      <th>BsmtFinSF1</th>\n",
       "      <td>1.693397</td>\n",
       "    </tr>\n",
       "    <tr>\n",
       "      <th>WoodDeckSF</th>\n",
       "      <td>1.481740</td>\n",
       "    </tr>\n",
       "    <tr>\n",
       "      <th>GrLivArea</th>\n",
       "      <td>1.430307</td>\n",
       "    </tr>\n",
       "    <tr>\n",
       "      <th>1stFlrSF</th>\n",
       "      <td>1.397431</td>\n",
       "    </tr>\n",
       "    <tr>\n",
       "      <th>MSSubClass</th>\n",
       "      <td>1.391901</td>\n",
       "    </tr>\n",
       "    <tr>\n",
       "      <th>BsmtUnfSF</th>\n",
       "      <td>0.935363</td>\n",
       "    </tr>\n",
       "    <tr>\n",
       "      <th>OverallCond</th>\n",
       "      <td>0.897541</td>\n",
       "    </tr>\n",
       "    <tr>\n",
       "      <th>GarageArea</th>\n",
       "      <td>0.807078</td>\n",
       "    </tr>\n",
       "    <tr>\n",
       "      <th>2ndFlrSF</th>\n",
       "      <td>0.769147</td>\n",
       "    </tr>\n",
       "    <tr>\n",
       "      <th>TotRmsAbvGrd</th>\n",
       "      <td>0.673364</td>\n",
       "    </tr>\n",
       "    <tr>\n",
       "      <th>Fireplaces</th>\n",
       "      <td>0.570838</td>\n",
       "    </tr>\n",
       "    <tr>\n",
       "      <th>HalfBath</th>\n",
       "      <td>0.554013</td>\n",
       "    </tr>\n",
       "    <tr>\n",
       "      <th>BsmtFullBath</th>\n",
       "      <td>0.459865</td>\n",
       "    </tr>\n",
       "    <tr>\n",
       "      <th>OverallQual</th>\n",
       "      <td>0.315218</td>\n",
       "    </tr>\n",
       "    <tr>\n",
       "      <th>MoSold</th>\n",
       "      <td>0.205257</td>\n",
       "    </tr>\n",
       "    <tr>\n",
       "      <th>GarageCars</th>\n",
       "      <td>0.200432</td>\n",
       "    </tr>\n",
       "    <tr>\n",
       "      <th>YrSold</th>\n",
       "      <td>0.109344</td>\n",
       "    </tr>\n",
       "    <tr>\n",
       "      <th>FullBath</th>\n",
       "      <td>-0.014175</td>\n",
       "    </tr>\n",
       "    <tr>\n",
       "      <th>BedroomAbvGr</th>\n",
       "      <td>-0.058165</td>\n",
       "    </tr>\n",
       "    <tr>\n",
       "      <th>YearRemodAdd</th>\n",
       "      <td>-0.563345</td>\n",
       "    </tr>\n",
       "    <tr>\n",
       "      <th>GarageYrBlt</th>\n",
       "      <td>-0.669457</td>\n",
       "    </tr>\n",
       "    <tr>\n",
       "      <th>YearBuilt</th>\n",
       "      <td>-0.677966</td>\n",
       "    </tr>\n",
       "  </tbody>\n",
       "</table>\n",
       "</div>"
      ],
      "text/plain": [
       "               Skewed Features\n",
       "MiscVal              24.632578\n",
       "PoolArea             14.187832\n",
       "LotArea              11.938124\n",
       "LowQualFinSF         10.566815\n",
       "3SsnPorch            10.096553\n",
       "KitchenAbvGr          5.943561\n",
       "BsmtFinSF2            4.146519\n",
       "ScreenPorch           3.916848\n",
       "BsmtHalfBath          3.847909\n",
       "EnclosedPorch         3.205286\n",
       "MasVnrArea            2.582685\n",
       "LotFrontage           2.479517\n",
       "OpenPorchSF           2.250952\n",
       "TotalBsmtSF           2.214029\n",
       "SalePrice             1.943686\n",
       "BsmtFinSF1            1.693397\n",
       "WoodDeckSF            1.481740\n",
       "GrLivArea             1.430307\n",
       "1stFlrSF              1.397431\n",
       "MSSubClass            1.391901\n",
       "BsmtUnfSF             0.935363\n",
       "OverallCond           0.897541\n",
       "GarageArea            0.807078\n",
       "2ndFlrSF              0.769147\n",
       "TotRmsAbvGrd          0.673364\n",
       "Fireplaces            0.570838\n",
       "HalfBath              0.554013\n",
       "BsmtFullBath          0.459865\n",
       "OverallQual           0.315218\n",
       "MoSold                0.205257\n",
       "GarageCars            0.200432\n",
       "YrSold                0.109344\n",
       "FullBath             -0.014175\n",
       "BedroomAbvGr         -0.058165\n",
       "YearRemodAdd         -0.563345\n",
       "GarageYrBlt          -0.669457\n",
       "YearBuilt            -0.677966"
      ]
     },
     "execution_count": 19,
     "metadata": {},
     "output_type": "execute_result"
    }
   ],
   "source": [
    "skewness_df\n"
   ]
  },
  {
   "cell_type": "code",
   "execution_count": 20,
   "metadata": {},
   "outputs": [
    {
     "data": {
      "text/plain": [
       "37"
      ]
     },
     "execution_count": 20,
     "metadata": {},
     "output_type": "execute_result"
    }
   ],
   "source": [
    "len(skewness_df) # because it can only be measured for numeric data"
   ]
  },
  {
   "cell_type": "code",
   "execution_count": 21,
   "metadata": {},
   "outputs": [],
   "source": [
    "#selecting a thrshold for skewness say 1.0 and only working on apply box cox to those features"
   ]
  },
  {
   "cell_type": "code",
   "execution_count": null,
   "metadata": {},
   "outputs": [],
   "source": []
  },
  {
   "cell_type": "code",
   "execution_count": 22,
   "metadata": {},
   "outputs": [],
   "source": [
    "skewness_df = skewness_df[abs(skewness_df) > 0.6]"
   ]
  },
  {
   "cell_type": "code",
   "execution_count": 23,
   "metadata": {},
   "outputs": [],
   "source": [
    "skewed_feature_cut = skewness_df.index"
   ]
  },
  {
   "cell_type": "code",
   "execution_count": 24,
   "metadata": {},
   "outputs": [],
   "source": [
    "from scipy.special import boxcox1p"
   ]
  },
  {
   "cell_type": "raw",
   "metadata": {},
   "source": [
    "y = ((1+x)**lmbda - 1) / lmbda  if lmbda != 0\n",
    "    log(1+x)                    if lmbda == 0\n",
    "    boxcox(x,lam) returns y"
   ]
  },
  {
   "cell_type": "code",
   "execution_count": 25,
   "metadata": {},
   "outputs": [],
   "source": [
    "lam = 0.1 \n",
    "for feat in skewed_feature_cut:\n",
    "    #print(feat)\n",
    "    df[feat] = boxcox1p(df[feat],lam)\n",
    "    df[feat] += 1"
   ]
  },
  {
   "cell_type": "code",
   "execution_count": 26,
   "metadata": {},
   "outputs": [
    {
     "data": {
      "text/plain": [
       "<matplotlib.legend.Legend at 0x7f57d467f128>"
      ]
     },
     "execution_count": 26,
     "metadata": {},
     "output_type": "execute_result"
    },
    {
     "data": {
      "image/png": "[encoded data removed]",
      "text/plain": [
       "<Figure size 432x288 with 1 Axes>"
      ]
     },
     "metadata": {
      "needs_background": "light"
     },
     "output_type": "display_data"
    }
   ],
   "source": [
    "(mu, sigma) = stats.norm.fit(df[\"SalePrice\"])\n",
    "sns.distplot(df[\"SalePrice\"],fit=stats.norm, label= [\" After normal dist. fit ($\\mu=${0:.2g}, $\\sigma=${1:.2f})\".format(mu, sigma)])\n",
    "plt.legend()\n"
   ]
  },
  {
   "cell_type": "code",
   "execution_count": 27,
   "metadata": {},
   "outputs": [],
   "source": [
    "#So, the data has been corrected for skew\n"
   ]
  },
  {
   "cell_type": "markdown",
   "metadata": {},
   "source": [
    "## Get dummy the categorical data"
   ]
  },
  {
   "cell_type": "code",
   "execution_count": 28,
   "metadata": {},
   "outputs": [
    {
     "name": "stdout",
     "output_type": "stream",
     "text": [
      "(1338, 266)\n"
     ]
    }
   ],
   "source": [
    "df = pd.get_dummies(df)\n",
    "print(df.shape)"
   ]
  },
  {
   "cell_type": "code",
   "execution_count": 29,
   "metadata": {},
   "outputs": [
    {
     "data": {
      "text/plain": [
       "0       25.033829\n",
       "1       24.565097\n",
       "2       25.271092\n",
       "3       23.704922\n",
       "4       25.657256\n",
       "5       23.774336\n",
       "6       26.376428\n",
       "7       24.892470\n",
       "8       23.460952\n",
       "9       23.150562\n",
       "10      23.450942\n",
       "11      26.791676\n",
       "12      23.797184\n",
       "13      26.045990\n",
       "14      24.081885\n",
       "15      23.513051\n",
       "16      23.909321\n",
       "18      24.123787\n",
       "19      23.681486\n",
       "20      26.581851\n",
       "21      23.690878\n",
       "22      25.369481\n",
       "23      23.460952\n",
       "24      24.018121\n",
       "25      25.743617\n",
       "26      23.581368\n",
       "27      26.364888\n",
       "28      25.017471\n",
       "29      21.448766\n",
       "30      19.854070\n",
       "          ...    \n",
       "1427    23.704922\n",
       "1428    23.177705\n",
       "1429    24.590898\n",
       "1430    24.756857\n",
       "1431    23.791485\n",
       "1432    21.266113\n",
       "1433    24.656435\n",
       "1434    24.144561\n",
       "1435    24.423750\n",
       "1436    23.218036\n",
       "1437    27.275858\n",
       "1438    23.924749\n",
       "1439    24.841285\n",
       "1440    24.736775\n",
       "1441    23.915941\n",
       "1442    26.410847\n",
       "1443    23.231380\n",
       "1444    24.529793\n",
       "1445    23.438391\n",
       "1446    24.100800\n",
       "1447    25.516067\n",
       "1448    22.983220\n",
       "1451    26.140016\n",
       "1452    23.819888\n",
       "1454    24.629267\n",
       "1455    24.442909\n",
       "1456    25.058235\n",
       "1457    25.879471\n",
       "1458    23.754227\n",
       "1459    23.876040\n",
       "Name: SalePrice, Length: 1338, dtype: float64"
      ]
     },
     "execution_count": 29,
     "metadata": {},
     "output_type": "execute_result"
    }
   ],
   "source": [
    "df[\"SalePrice\"]"
   ]
  },
  {
   "cell_type": "markdown",
   "metadata": {},
   "source": [
    "# Model application Linear regression"
   ]
  },
  {
   "cell_type": "code",
   "execution_count": 30,
   "metadata": {},
   "outputs": [],
   "source": [
    "from sklearn.model_selection import train_test_split"
   ]
  },
  {
   "cell_type": "code",
   "execution_count": 31,
   "metadata": {},
   "outputs": [],
   "source": [
    "y = df[\"SalePrice\"]\n",
    "df2 = df.drop([\"SalePrice\"],axis=1)\n",
    "X_train, X_test, y_train, y_test = train_test_split(df2, y, test_size=0.2, shuffle=True, random_state=1)"
   ]
  },
  {
   "cell_type": "code",
   "execution_count": 32,
   "metadata": {},
   "outputs": [],
   "source": [
    "from sklearn import linear_model\n",
    "lm = linear_model.LinearRegression() #regularized linear model lasso because after one hot encode i was underfitting (probably)\n",
    "\n",
    "model = lm.fit(X_train, y_train)\n",
    "predictions = lm.predict(X_test)"
   ]
  },
  {
   "cell_type": "code",
   "execution_count": 33,
   "metadata": {},
   "outputs": [],
   "source": [
    "from scipy.special import inv_boxcox1p"
   ]
  },
  {
   "cell_type": "code",
   "execution_count": 34,
   "metadata": {},
   "outputs": [
    {
     "data": {
      "text/plain": [
       "-673.544086965215"
      ]
     },
     "execution_count": 34,
     "metadata": {},
     "output_type": "execute_result"
    }
   ],
   "source": [
    "(inv_boxcox1p(predictions, 0.1) - inv_boxcox1p(y_test, 0.1)).mean()"
   ]
  },
  {
   "cell_type": "code",
   "execution_count": null,
   "metadata": {},
   "outputs": [],
   "source": []
  },
  {
   "cell_type": "code",
   "execution_count": 35,
   "metadata": {},
   "outputs": [],
   "source": [
    "\n",
    "\n",
    "\n",
    "correct = 0\n",
    "not_correct = 0\n",
    "epsilon_j = []\n",
    "corct = []\n",
    "nocorct = []\n",
    "for epsilon in np.arange(0,1,0.05):\n",
    "    \n",
    "    a = abs((inv_boxcox1p(predictions, 0.1) - inv_boxcox1p(y_test, 0.1))/inv_boxcox1p(y_test, 0.1)) <= epsilon\n",
    "    #print(a)\n",
    "    for i in a:\n",
    "        if i == True:\n",
    "            correct += 1\n",
    "        else:\n",
    "            not_correct += 1\n",
    "    #print(epsilon,\"--\" ,correct,\"--\",not_correct)\n",
    "    epsilon_j = np.append(epsilon_j,epsilon)\n",
    "    corct = np.append(corct,correct)\n",
    "    nocorct = np.append(nocorct,not_correct)\n",
    "    correct = 0\n",
    "    not_correct = 0\n",
    "    \n",
    "    #print(epsilon_j,\"--\",corct,\"---\",nocorct)"
   ]
  },
  {
   "cell_type": "code",
   "execution_count": 36,
   "metadata": {},
   "outputs": [
    {
     "name": "stdout",
     "output_type": "stream",
     "text": [
      "[  0. 133. 198. 236. 253. 259. 261. 265. 265. 265. 265. 266. 266. 266.\n",
      " 266. 267. 267. 267. 267. 267.]\n",
      "[268. 268. 268. 268. 268. 268. 268. 268. 268. 268. 268. 268. 268. 268.\n",
      " 268. 268. 268. 268. 268. 268.]\n",
      "[ 0.         49.62686567 73.88059701 88.05970149 94.40298507 96.64179104\n",
      " 97.3880597  98.88059701 98.88059701 98.88059701 98.88059701 99.25373134\n",
      " 99.25373134 99.25373134 99.25373134 99.62686567 99.62686567 99.62686567\n",
      " 99.62686567 99.62686567] --- [  0. 133. 198. 236. 253. 259. 261. 265. 265. 265. 265. 266. 266. 266.\n",
      " 266. 267. 267. 267. 267. 267.]\n"
     ]
    },
    {
     "data": {
      "image/png": "[encoded data removed]",
      "text/plain": [
       "<Figure size 432x288 with 1 Axes>"
      ]
     },
     "metadata": {
      "needs_background": "light"
     },
     "output_type": "display_data"
    }
   ],
   "source": [
    "a = corct + nocorct\n",
    "print(corct)\n",
    "print(a)\n",
    "b = corct/a * 100\n",
    "print (b,\"---\",corct)\n",
    "\n",
    "plt.plot(epsilon_j,b,\"r*\")\n",
    "plt.xlabel(\"tolerance\")\n",
    "plt.ylabel(\"% ofcorrect predictions\")\n",
    "\n",
    "plt.show()"
   ]
  },
  {
   "cell_type": "code",
   "execution_count": null,
   "metadata": {},
   "outputs": [],
   "source": []
  },
  {
   "cell_type": "code",
   "execution_count": null,
   "metadata": {},
   "outputs": [],
   "source": []
  },
  {
   "cell_type": "code",
   "execution_count": null,
   "metadata": {},
   "outputs": [],
   "source": []
  },
  {
   "cell_type": "code",
   "execution_count": null,
   "metadata": {},
   "outputs": [],
   "source": []
  },
  {
   "cell_type": "code",
   "execution_count": 37,
   "metadata": {},
   "outputs": [
    {
     "data": {
      "text/plain": [
       "array([23.0456078 , 24.64351254, 26.62298061, 25.18179713, 23.09300916])"
      ]
     },
     "execution_count": 37,
     "metadata": {},
     "output_type": "execute_result"
    }
   ],
   "source": [
    "predictions[0:5]"
   ]
  },
  {
   "cell_type": "code",
   "execution_count": 38,
   "metadata": {},
   "outputs": [
    {
     "data": {
      "text/plain": [
       "609     160948.598572\n",
       "1188    260997.061870\n",
       "1115    419825.287371\n",
       "501     302125.028016\n",
       "872     157654.501445\n",
       "326     427527.720770\n",
       "523     247662.913910\n",
       "675     200341.991253\n",
       "831     203614.522823\n",
       "817     359359.051382\n",
       "51      155677.119154\n",
       "597     259958.313825\n",
       "1250    324506.903965\n",
       "835     173449.336519\n",
       "215     181922.311280\n",
       "463     252803.654615\n",
       "3       189204.268919\n",
       "854     228440.637936\n",
       "483     220609.116454\n",
       "1006    219956.153612\n",
       "345     189466.535887\n",
       "792     357799.094108\n",
       "95      247988.361242\n",
       "339     208847.597559\n",
       "512     175946.418825\n",
       "793     299923.360352\n",
       "63      189204.268919\n",
       "1397    185925.082429\n",
       "770     182513.035719\n",
       "111     241477.219533\n",
       "            ...      \n",
       "577     221262.026950\n",
       "448     162265.706972\n",
       "439     149740.696954\n",
       "97      129571.455476\n",
       "626     189073.131684\n",
       "1159    247988.361242\n",
       "418     170819.749661\n",
       "288     165557.176666\n",
       "703     189204.268919\n",
       "1176    162265.706972\n",
       "931     159631.188504\n",
       "819     298628.063786\n",
       "166     254494.930369\n",
       "84      226483.447704\n",
       "367     221914.885280\n",
       "844     207408.862278\n",
       "479     122569.323953\n",
       "82      325799.395847\n",
       "682     232353.665419\n",
       "308     113305.093022\n",
       "36      195757.982732\n",
       "360     210155.304424\n",
       "893     221914.885280\n",
       "1429    245254.246716\n",
       "6       405694.794201\n",
       "745     396438.988262\n",
       "688     514592.478445\n",
       "974     225178.400609\n",
       "877     460865.270339\n",
       "1273    237568.280562\n",
       "Name: SalePrice, Length: 268, dtype: float64"
      ]
     },
     "execution_count": 38,
     "metadata": {},
     "output_type": "execute_result"
    }
   ],
   "source": [
    "inv_boxcox1p(y_test, 0.1)"
   ]
  },
  {
   "cell_type": "code",
   "execution_count": null,
   "metadata": {},
   "outputs": [],
   "source": []
  },
  {
   "cell_type": "code",
   "execution_count": 39,
   "metadata": {},
   "outputs": [
    {
     "data": {
      "text/plain": [
       "609     23.164159\n",
       "1188    24.806770\n",
       "1115    26.501185\n",
       "501     25.319847\n",
       "872     23.095650\n",
       "Name: SalePrice, dtype: float64"
      ]
     },
     "execution_count": 39,
     "metadata": {},
     "output_type": "execute_result"
    }
   ],
   "source": [
    "y_test[0:5]"
   ]
  },
  {
   "cell_type": "code",
   "execution_count": 40,
   "metadata": {},
   "outputs": [
    {
     "data": {
      "text/plain": [
       "Text(0, 0.5, 'Predictions')"
      ]
     },
     "execution_count": 40,
     "metadata": {},
     "output_type": "execute_result"
    },
    {
     "data": {
      "image/png": "[encoded data removed]",
      "text/plain": [
       "<Figure size 432x288 with 1 Axes>"
      ]
     },
     "metadata": {
      "needs_background": "light"
     },
     "output_type": "display_data"
    }
   ],
   "source": [
    "plt.scatter(y_test, predictions)\n",
    "plt.xlabel(\"True Values\")\n",
    "plt.ylabel(\"Predictions\")"
   ]
  },
  {
   "cell_type": "code",
   "execution_count": 41,
   "metadata": {},
   "outputs": [],
   "source": [
    "from sklearn.metrics import r2_score"
   ]
  },
  {
   "cell_type": "code",
   "execution_count": 42,
   "metadata": {},
   "outputs": [
    {
     "data": {
      "text/plain": [
       "0.8579093338230042"
      ]
     },
     "execution_count": 42,
     "metadata": {},
     "output_type": "execute_result"
    }
   ],
   "source": [
    "r2_score(y_test,predictions)"
   ]
  },
  {
   "cell_type": "markdown",
   "metadata": {},
   "source": [
    "### Setting tolerance\n",
    "(1 – tolerance) * realPrice <= predictedPrice <= (1 + tolerance) * realPrice"
   ]
  },
  {
   "cell_type": "code",
   "execution_count": 43,
   "metadata": {},
   "outputs": [
    {
     "data": {
      "text/plain": [
       "268"
      ]
     },
     "execution_count": 43,
     "metadata": {},
     "output_type": "execute_result"
    }
   ],
   "source": [
    "y_test_arr = y_test.values\n",
    "len(y_test_arr)"
   ]
  },
  {
   "cell_type": "raw",
   "metadata": {},
   "source": [
    "correct = 0\n",
    "not_correct = 0\n",
    "epsilon_j = []\n",
    "corct = []\n",
    "nocorct = []\n",
    "for epsilon in np.arange(0,1,0.05):\n",
    "    \n",
    "    a = abs((predictions - y_test)/y_test) <= epsilon\n",
    "    #print(a)\n",
    "    for i in a:\n",
    "        if i == True:\n",
    "            correct += 1\n",
    "        else:\n",
    "            not_correct += 1\n",
    "    #print(epsilon,\"--\" ,correct,\"--\",not_correct)\n",
    "    epsilon_j = np.append(epsilon_j,epsilon)\n",
    "    corct = np.append(corct,correct)\n",
    "    nocorct = np.append(nocorct,not_correct)\n",
    "    correct = 0\n",
    "    not_correct = 0\n",
    "    \n",
    "    #print(epsilon_j,\"--\",corct,\"---\",nocorct)"
   ]
  },
  {
   "cell_type": "code",
   "execution_count": 44,
   "metadata": {},
   "outputs": [],
   "source": [
    "correct = 0\n",
    "not_correct = 0\n",
    "epsilon_j = []\n",
    "corct = []\n",
    "nocorct = []\n",
    "for epsilon in np.arange(0,1,0.05):\n",
    "    \n",
    "    a = abs((inv_boxcox1p(predictions, 0.1) - inv_boxcox1p(y_test, 0.1))/inv_boxcox1p(y_test, 0.1)) <= epsilon\n",
    "    #print(a)\n",
    "    for i in a:\n",
    "        if i == True:\n",
    "            correct += 1\n",
    "        else:\n",
    "            not_correct += 1\n",
    "    #print(epsilon,\"--\" ,correct,\"--\",not_correct)\n",
    "    epsilon_j = np.append(epsilon_j,epsilon)\n",
    "    corct = np.append(corct,correct)\n",
    "    nocorct = np.append(nocorct,not_correct)\n",
    "    correct = 0\n",
    "    not_correct = 0\n",
    "    \n",
    "    #print(epsilon_j,\"--\",corct,\"---\",nocorct)"
   ]
  },
  {
   "cell_type": "code",
   "execution_count": 45,
   "metadata": {},
   "outputs": [
    {
     "name": "stdout",
     "output_type": "stream",
     "text": [
      "[  0. 133. 198. 236. 253. 259. 261. 265. 265. 265. 265. 266. 266. 266.\n",
      " 266. 267. 267. 267. 267. 267.]\n",
      "[268. 268. 268. 268. 268. 268. 268. 268. 268. 268. 268. 268. 268. 268.\n",
      " 268. 268. 268. 268. 268. 268.]\n",
      "[ 0.         49.62686567 73.88059701 88.05970149 94.40298507 96.64179104\n",
      " 97.3880597  98.88059701 98.88059701 98.88059701 98.88059701 99.25373134\n",
      " 99.25373134 99.25373134 99.25373134 99.62686567 99.62686567 99.62686567\n",
      " 99.62686567 99.62686567] --- [  0. 133. 198. 236. 253. 259. 261. 265. 265. 265. 265. 266. 266. 266.\n",
      " 266. 267. 267. 267. 267. 267.]\n"
     ]
    },
    {
     "data": {
      "image/png": "[encoded data removed]",
      "text/plain": [
       "<Figure size 432x288 with 1 Axes>"
      ]
     },
     "metadata": {
      "needs_background": "light"
     },
     "output_type": "display_data"
    }
   ],
   "source": [
    "a = corct + nocorct\n",
    "print(corct)\n",
    "print(a)\n",
    "b = corct/a * 100\n",
    "print (b,\"---\",corct)\n",
    "\n",
    "plt.plot(epsilon_j,b,\"r*\")\n",
    "plt.xlabel(\"tolerance\")\n",
    "plt.ylabel(\"% ofcorrect predictions\")\n",
    "\n",
    "plt.show()"
   ]
  },
  {
   "cell_type": "code",
   "execution_count": 46,
   "metadata": {},
   "outputs": [],
   "source": [
    "from sklearn.metrics import mean_absolute_error, mean_squared_error"
   ]
  },
  {
   "cell_type": "code",
   "execution_count": 47,
   "metadata": {},
   "outputs": [
    {
     "data": {
      "text/plain": [
       "0.2746723610926592"
      ]
     },
     "execution_count": 47,
     "metadata": {},
     "output_type": "execute_result"
    }
   ],
   "source": [
    "mean_absolute_error(predictions,y_test)"
   ]
  },
  {
   "cell_type": "code",
   "execution_count": 48,
   "metadata": {},
   "outputs": [
    {
     "data": {
      "text/plain": [
       "0.45563148773015993"
      ]
     },
     "execution_count": 48,
     "metadata": {},
     "output_type": "execute_result"
    }
   ],
   "source": [
    "np.sqrt(mean_squared_error(predictions,y_test))"
   ]
  },
  {
   "cell_type": "markdown",
   "metadata": {},
   "source": []
  },
  {
   "cell_type": "markdown",
   "metadata": {},
   "source": [
    "## checking for overfitting"
   ]
  },
  {
   "cell_type": "code",
   "execution_count": 49,
   "metadata": {},
   "outputs": [],
   "source": [
    "from sklearn.model_selection import GridSearchCV"
   ]
  },
  {
   "cell_type": "code",
   "execution_count": 50,
   "metadata": {},
   "outputs": [
    {
     "name": "stdout",
     "output_type": "stream",
     "text": [
      "Fitting 5 folds for each of 1 candidates, totalling 5 fits\n",
      "[CV]  ................................................................\n",
      "[CV] ...................... , score=-0.3058551985138022, total=   0.0s\n",
      "[CV]  ................................................................\n",
      "[CV] ...................... , score=-264012203.12671968, total=   0.1s\n",
      "[CV]  ................................................................\n",
      "[CV] ...................... , score=-0.2986986098643118, total=   0.0s\n",
      "[CV]  ................................................................\n",
      "[CV] ..................... , score=-0.26173562877040696, total=   0.0s\n",
      "[CV]  ................................................................\n"
     ]
    },
    {
     "name": "stderr",
     "output_type": "stream",
     "text": [
      "[Parallel(n_jobs=1)]: Using backend SequentialBackend with 1 concurrent workers.\n",
      "[Parallel(n_jobs=1)]: Done   1 out of   1 | elapsed:    0.0s remaining:    0.0s\n",
      "[Parallel(n_jobs=1)]: Done   2 out of   2 | elapsed:    0.1s remaining:    0.0s\n",
      "[Parallel(n_jobs=1)]: Done   3 out of   3 | elapsed:    0.1s remaining:    0.0s\n",
      "[Parallel(n_jobs=1)]: Done   4 out of   4 | elapsed:    0.2s remaining:    0.0s\n"
     ]
    },
    {
     "name": "stdout",
     "output_type": "stream",
     "text": [
      "[CV] ...................... , score=-0.2572617044053769, total=   0.0s\n",
      "{'mean_fit_time': array([0.03966846]), 'std_fit_time': array([0.00613219]), 'mean_score_time': array([0.00239377]), 'std_score_time': array([0.00074799]), 'params': [{}], 'split0_test_score': array([-0.3058552]), 'split1_test_score': array([-2.64012203e+08]), 'split2_test_score': array([-0.29869861]), 'split3_test_score': array([-0.26173563]), 'split4_test_score': array([-0.2572617]), 'mean_test_score': array([-52802440.85005416]), 'std_test_score': array([1.05604881e+08]), 'rank_test_score': array([1], dtype=int32), 'split0_train_score': array([-0.18909037]), 'split1_train_score': array([-0.18830647]), 'split2_train_score': array([-0.18966706]), 'split3_train_score': array([-0.19299777]), 'split4_train_score': array([-0.19623519]), 'mean_train_score': array([-0.19125937]), 'std_train_score': array([0.00295772])}\n"
     ]
    },
    {
     "name": "stderr",
     "output_type": "stream",
     "text": [
      "[Parallel(n_jobs=1)]: Done   5 out of   5 | elapsed:    0.2s finished\n"
     ]
    }
   ],
   "source": [
    "lm_params = {}\n",
    "lm_grid = GridSearchCV(lm, lm_params, cv=5, verbose=5, scoring=\"neg_mean_absolute_error\")\n",
    "lm_grid.fit(X_train, y_train)\n",
    "lm_score = lm_grid.cv_results_\n",
    "print(lm_score)"
   ]
  },
  {
   "cell_type": "code",
   "execution_count": 51,
   "metadata": {},
   "outputs": [
    {
     "name": "stdout",
     "output_type": "stream",
     "text": [
      "{}\n",
      "test score: [-52802440.85005416]\n",
      "train score: [-0.19125937]\n",
      "[-2.64012203e+08]\n",
      "[{}]\n"
     ]
    },
    {
     "name": "stderr",
     "output_type": "stream",
     "text": [
      "/home/rishabh/.local/lib/python3.6/site-packages/sklearn/utils/deprecation.py:125: FutureWarning: You are accessing a training score ('mean_train_score'), which will not be available by default any more in 0.21. If you need training scores, please set return_train_score=True\n",
      "  warnings.warn(*warn_args, **warn_kwargs)\n"
     ]
    }
   ],
   "source": [
    "print(lm_grid.best_params_)\n",
    "print(\"test score:\", lm_score[\"mean_test_score\"])\n",
    "print(\"train score:\", lm_score[\"mean_train_score\"])\n",
    "print(lm_score[\"split1_test_score\"])\n",
    "#print(lm_score[\"mean_test_score\"])\n",
    "print(lm_score[\"params\"])"
   ]
  },
  {
   "cell_type": "code",
   "execution_count": 52,
   "metadata": {},
   "outputs": [],
   "source": [
    "#high test score  and lo training score implies overfitting the training"
   ]
  },
  {
   "cell_type": "code",
   "execution_count": null,
   "metadata": {},
   "outputs": [],
   "source": []
  },
  {
   "cell_type": "markdown",
   "metadata": {},
   "source": [
    "## Normalization and then prediction"
   ]
  },
  {
   "cell_type": "code",
   "execution_count": null,
   "metadata": {},
   "outputs": [],
   "source": []
  },
  {
   "cell_type": "code",
   "execution_count": null,
   "metadata": {},
   "outputs": [],
   "source": []
  },
  {
   "cell_type": "code",
   "execution_count": 53,
   "metadata": {},
   "outputs": [],
   "source": [
    "#Normalizing using Sk-learn\n",
    "from sklearn.preprocessing import MinMaxScaler, StandardScaler"
   ]
  },
  {
   "cell_type": "code",
   "execution_count": 54,
   "metadata": {},
   "outputs": [
    {
     "name": "stderr",
     "output_type": "stream",
     "text": [
      "/home/rishabh/.local/lib/python3.6/site-packages/sklearn/preprocessing/data.py:323: DataConversionWarning: Data with input dtype uint8, float64 were all converted to float64 by MinMaxScaler.\n",
      "  return self.partial_fit(X, y)\n"
     ]
    }
   ],
   "source": [
    "scalar = MinMaxScaler()\n",
    "df_norm = scalar.fit_transform(df)"
   ]
  },
  {
   "cell_type": "code",
   "execution_count": 55,
   "metadata": {},
   "outputs": [
    {
     "data": {
      "text/plain": [
       "numpy.ndarray"
      ]
     },
     "execution_count": 55,
     "metadata": {},
     "output_type": "execute_result"
    }
   ],
   "source": [
    "type(df_norm)"
   ]
  },
  {
   "cell_type": "code",
   "execution_count": 56,
   "metadata": {},
   "outputs": [],
   "source": [
    "scaled_features_df = pd.DataFrame(df_norm, index=df.index, \n",
    "                                       columns=df.columns)"
   ]
  },
  {
   "cell_type": "code",
   "execution_count": 57,
   "metadata": {},
   "outputs": [
    {
     "name": "stdout",
     "output_type": "stream",
     "text": [
      "<class 'pandas.core.frame.DataFrame'>\n",
      "Int64Index: 1338 entries, 0 to 1459\n",
      "Columns: 266 entries, MSSubClass to SaleCondition_Partial\n",
      "dtypes: float64(266)\n",
      "memory usage: 2.7 MB\n"
     ]
    }
   ],
   "source": [
    "scaled_features_df.info()"
   ]
  },
  {
   "cell_type": "markdown",
   "metadata": {},
   "source": [
    "#### Standardization"
   ]
  },
  {
   "cell_type": "code",
   "execution_count": 58,
   "metadata": {},
   "outputs": [],
   "source": [
    "std_scalar = StandardScaler()"
   ]
  },
  {
   "cell_type": "raw",
   "metadata": {},
   "source": [
    "scaled_df = scalar.fit_transform(df)\n",
    "scaled_df = pd.DataFrame(df_norm, index=df.index, \n",
    "                                       columns=df.columns)"
   ]
  },
  {
   "cell_type": "code",
   "execution_count": null,
   "metadata": {},
   "outputs": [],
   "source": []
  },
  {
   "cell_type": "raw",
   "metadata": {},
   "source": [
    "y = scaled_features_df[\"SalePrice\"]\n",
    "df2 = scaled_features_df.drop([\"SalePrice\"],axis=1)\n",
    "X_train, X_test, y_train, y_test = train_test_split(df2, y, test_size=0.2, shuffle=True, random_state=1)"
   ]
  },
  {
   "cell_type": "code",
   "execution_count": 59,
   "metadata": {},
   "outputs": [],
   "source": [
    "y = df[\"SalePrice\"]\n",
    "df2 = df.drop([\"SalePrice\"],axis=1)\n",
    "X_train, X_test, y_train, y_test = train_test_split(df2, y, test_size=0.2, shuffle=True, random_state=1)"
   ]
  },
  {
   "cell_type": "raw",
   "metadata": {},
   "source": [
    "y = scaled_df[\"SalePrice\"]\n",
    "df2 = scaled_df.drop([\"SalePrice\"],axis=1)\n",
    "X_train, X_test, y_train, y_test = train_test_split(df2, y, test_size=0.2, shuffle=True, random_state=1)"
   ]
  },
  {
   "cell_type": "code",
   "execution_count": 60,
   "metadata": {},
   "outputs": [],
   "source": [
    "from sklearn import linear_model\n",
    "las = linear_model.Lasso(alpha=0.005) #regularized linear model lasso because after one hot encode i was underfitting (probably)\n",
    "\n",
    "model = las.fit(X_train, y_train)\n",
    "predictions = las.predict(X_test)"
   ]
  },
  {
   "cell_type": "raw",
   "metadata": {},
   "source": [
    "scipy.special.inv_boxcox1p(predictions, 0.1)"
   ]
  },
  {
   "cell_type": "code",
   "execution_count": 61,
   "metadata": {},
   "outputs": [
    {
     "data": {
      "text/plain": [
       "array([22.91125637, 24.76633332, 26.436969  , 25.03978138, 22.89307501])"
      ]
     },
     "execution_count": 61,
     "metadata": {},
     "output_type": "execute_result"
    }
   ],
   "source": [
    "predictions[0:5]"
   ]
  },
  {
   "cell_type": "code",
   "execution_count": 62,
   "metadata": {},
   "outputs": [
    {
     "data": {
      "text/plain": [
       "609     23.164159\n",
       "1188    24.806770\n",
       "1115    26.501185\n",
       "501     25.319847\n",
       "872     23.095650\n",
       "Name: SalePrice, dtype: float64"
      ]
     },
     "execution_count": 62,
     "metadata": {},
     "output_type": "execute_result"
    }
   ],
   "source": [
    "y_test[0:5]"
   ]
  },
  {
   "cell_type": "code",
   "execution_count": 63,
   "metadata": {},
   "outputs": [],
   "source": [
    "#r2_score(predictions,y_test)"
   ]
  },
  {
   "cell_type": "code",
   "execution_count": 64,
   "metadata": {},
   "outputs": [
    {
     "data": {
      "text/plain": [
       "Text(0, 0.5, 'Predictions')"
      ]
     },
     "execution_count": 64,
     "metadata": {},
     "output_type": "execute_result"
    },
    {
     "data": {
      "image/png": "[encoded data removed]",
      "text/plain": [
       "<Figure size 432x288 with 1 Axes>"
      ]
     },
     "metadata": {
      "needs_background": "light"
     },
     "output_type": "display_data"
    }
   ],
   "source": [
    "plt.scatter(y_test, predictions)\n",
    "plt.xlabel(\"True Values\")\n",
    "plt.ylabel(\"Predictions\")"
   ]
  },
  {
   "cell_type": "code",
   "execution_count": 65,
   "metadata": {},
   "outputs": [],
   "source": [
    "from sklearn.metrics import r2_score"
   ]
  },
  {
   "cell_type": "code",
   "execution_count": 66,
   "metadata": {},
   "outputs": [
    {
     "data": {
      "text/plain": [
       "0.8645042477801722"
      ]
     },
     "execution_count": 66,
     "metadata": {},
     "output_type": "execute_result"
    }
   ],
   "source": [
    "r2_score(y_test,predictions,)"
   ]
  },
  {
   "cell_type": "code",
   "execution_count": 67,
   "metadata": {},
   "outputs": [
    {
     "data": {
      "text/plain": [
       "268"
      ]
     },
     "execution_count": 67,
     "metadata": {},
     "output_type": "execute_result"
    }
   ],
   "source": [
    "y_test_arr = y_test.values\n",
    "len(y_test_arr)"
   ]
  },
  {
   "cell_type": "code",
   "execution_count": 68,
   "metadata": {},
   "outputs": [],
   "source": [
    "correct = 0\n",
    "not_correct= 0\n",
    "epsilon_j_norm = []\n",
    "corct_norm = []\n",
    "nocorct_norm = []\n",
    "for epsilon in np.arange(0,1,0.05):\n",
    "    \n",
    "    a = abs((inv_boxcox1p(predictions, 0.1) - inv_boxcox1p(y_test, 0.1))/inv_boxcox1p(y_test, 0.1)) <= epsilon\n",
    "    #print(a)\n",
    "    for i in a:\n",
    "        if i == True:\n",
    "            correct += 1\n",
    "        else:\n",
    "            not_correct += 1\n",
    "    #print(epsilon,\"--\" ,correct,\"--\",not_correct)\n",
    "    epsilon_j_norm = np.append(epsilon_j_norm,epsilon)\n",
    "    corct_norm = np.append(corct_norm,correct)\n",
    "    nocorct_norm = np.append(nocorct_norm,not_correct)\n",
    "    correct = 0\n",
    "    not_correct = 0\n",
    "    \n",
    "    #print(epsilon_j,\"--\",corct,\"---\",nocorct)"
   ]
  },
  {
   "cell_type": "code",
   "execution_count": 69,
   "metadata": {},
   "outputs": [
    {
     "data": {
      "image/png": "[encoded data removed]",
      "text/plain": [
       "<Figure size 432x288 with 1 Axes>"
      ]
     },
     "metadata": {
      "needs_background": "light"
     },
     "output_type": "display_data"
    }
   ],
   "source": [
    "a_norm = corct_norm + nocorct_norm\n",
    "b_norm = corct_norm/a_norm * 100\n",
    "#print (b,\"---\",nocorct)\n",
    "\n",
    "#plt.plot(epsilon_j,b,\"ro\")\n",
    "plt.plot(epsilon_j_norm,b_norm,\"bo\")\n",
    "\n",
    "plt.xlabel(\"tolerance\")\n",
    "plt.ylabel(\"% ofcorrect predictions\")\n",
    "\n",
    "plt.show()"
   ]
  },
  {
   "cell_type": "code",
   "execution_count": 70,
   "metadata": {},
   "outputs": [
    {
     "data": {
      "text/plain": [
       "0.28032915199899194"
      ]
     },
     "execution_count": 70,
     "metadata": {},
     "output_type": "execute_result"
    }
   ],
   "source": [
    "mean_absolute_error(predictions,y_test)"
   ]
  },
  {
   "cell_type": "code",
   "execution_count": 71,
   "metadata": {},
   "outputs": [
    {
     "data": {
      "text/plain": [
       "0.4449321565137832"
      ]
     },
     "execution_count": 71,
     "metadata": {},
     "output_type": "execute_result"
    }
   ],
   "source": [
    "np.sqrt(mean_squared_error(predictions,y_test))"
   ]
  },
  {
   "cell_type": "markdown",
   "metadata": {},
   "source": [
    "# checking overfiting and finding the right parameters for the model lasso\n",
    "https://nycdatascience.com/blog/student-works/improving-model-accuracy-kaggle-competition/"
   ]
  },
  {
   "cell_type": "code",
   "execution_count": 72,
   "metadata": {},
   "outputs": [
    {
     "name": "stdout",
     "output_type": "stream",
     "text": [
      "Fitting 5 folds for each of 3 candidates, totalling 15 fits\n",
      "[CV] alpha=0.005 .....................................................\n",
      "[CV] ........... alpha=0.005, score=-0.3145876742814568, total=   0.1s\n",
      "[CV] alpha=0.005 .....................................................\n",
      "[CV] ........... alpha=0.005, score=-0.2827000853790745, total=   0.0s\n",
      "[CV] alpha=0.005 .....................................................\n",
      "[CV] .......... alpha=0.005, score=-0.28294984583747174, total=   0.0s\n",
      "[CV] alpha=0.005 .....................................................\n"
     ]
    },
    {
     "name": "stderr",
     "output_type": "stream",
     "text": [
      "[Parallel(n_jobs=1)]: Using backend SequentialBackend with 1 concurrent workers.\n",
      "[Parallel(n_jobs=1)]: Done   1 out of   1 | elapsed:    0.1s remaining:    0.0s\n",
      "[Parallel(n_jobs=1)]: Done   2 out of   2 | elapsed:    0.1s remaining:    0.0s\n",
      "[Parallel(n_jobs=1)]: Done   3 out of   3 | elapsed:    0.2s remaining:    0.0s\n"
     ]
    },
    {
     "name": "stdout",
     "output_type": "stream",
     "text": [
      "[CV] ........... alpha=0.005, score=-0.2724562682098703, total=   0.1s\n",
      "[CV] alpha=0.005 .....................................................\n",
      "[CV] .......... alpha=0.005, score=-0.25735493015574784, total=   0.0s\n",
      "[CV] alpha=0.05 ......................................................\n",
      "[CV] ........... alpha=0.05, score=-0.42006512722863315, total=   0.0s\n",
      "[CV] alpha=0.05 ......................................................\n",
      "[CV] ............ alpha=0.05, score=-0.4286670967560896, total=   0.0s\n",
      "[CV] alpha=0.05 ......................................................\n",
      "[CV] ............ alpha=0.05, score=-0.3979551692674668, total=   0.0s\n",
      "[CV] alpha=0.05 ......................................................\n",
      "[CV] ............ alpha=0.05, score=-0.3666441289165855, total=   0.0s\n",
      "[CV] alpha=0.05 ......................................................\n",
      "[CV] ........... alpha=0.05, score=-0.36654344432510005, total=   0.0s\n",
      "[CV] alpha=0.5 .......................................................\n",
      "[CV] ............. alpha=0.5, score=-0.7582019257099654, total=   0.0s\n",
      "[CV] alpha=0.5 .......................................................\n",
      "[CV] .............. alpha=0.5, score=-0.810923619263976, total=   0.0s\n",
      "[CV] alpha=0.5 .......................................................\n",
      "[CV] ............. alpha=0.5, score=-0.7908174530561873, total=   0.0s\n",
      "[CV] alpha=0.5 .......................................................\n",
      "[CV] ............. alpha=0.5, score=-0.8186171962847144, total=   0.0s\n",
      "[CV] alpha=0.5 .......................................................\n",
      "[CV] .............. alpha=0.5, score=-0.703455579828154, total=   0.0s\n",
      "{'mean_fit_time': array([0.03796039, 0.01066504, 0.00641613]), 'std_fit_time': array([1.26786708e-02, 3.35626736e-03, 8.95737555e-05]), 'mean_score_time': array([0.00784159, 0.00261722, 0.00175529]), 'std_score_time': array([4.38928188e-03, 1.63983300e-03, 7.52246549e-05]), 'param_alpha': masked_array(data=[0.005, 0.05, 0.5],\n",
      "             mask=[False, False, False],\n",
      "       fill_value='?',\n",
      "            dtype=object), 'params': [{'alpha': 0.005}, {'alpha': 0.05}, {'alpha': 0.5}], 'split0_test_score': array([-0.31458767, -0.42006513, -0.75820193]), 'split1_test_score': array([-0.28270009, -0.4286671 , -0.81092362]), 'split2_test_score': array([-0.28294985, -0.39795517, -0.79081745]), 'split3_test_score': array([-0.27245627, -0.36664413, -0.8186172 ]), 'split4_test_score': array([-0.25735493, -0.36654344, -0.70345558]), 'mean_test_score': array([-0.28200976, -0.39597499, -0.77640315]), 'std_test_score': array([0.01877131, 0.02599825, 0.04203354]), 'rank_test_score': array([1, 2, 3], dtype=int32), 'split0_train_score': array([-0.24654241, -0.37398659, -0.76594594]), 'split1_train_score': array([-0.2565373 , -0.38053459, -0.7585923 ]), 'split2_train_score': array([-0.25465087, -0.37960135, -0.76678763]), 'split3_train_score': array([-0.25676051, -0.38762967, -0.76605586]), 'split4_train_score': array([-0.25668435, -0.39175283, -0.77759417]), 'mean_train_score': array([-0.25423509, -0.38270101, -0.76699518]), 'std_train_score': array([0.00392497, 0.00626849, 0.00608232])}\n"
     ]
    },
    {
     "name": "stderr",
     "output_type": "stream",
     "text": [
      "[Parallel(n_jobs=1)]: Done   4 out of   4 | elapsed:    0.2s remaining:    0.0s\n",
      "[Parallel(n_jobs=1)]: Done   5 out of   5 | elapsed:    0.3s remaining:    0.0s\n",
      "[Parallel(n_jobs=1)]: Done   6 out of   6 | elapsed:    0.3s remaining:    0.0s\n",
      "[Parallel(n_jobs=1)]: Done   7 out of   7 | elapsed:    0.3s remaining:    0.0s\n",
      "[Parallel(n_jobs=1)]: Done   8 out of   8 | elapsed:    0.3s remaining:    0.0s\n",
      "[Parallel(n_jobs=1)]: Done   9 out of   9 | elapsed:    0.3s remaining:    0.0s\n",
      "[Parallel(n_jobs=1)]: Done  15 out of  15 | elapsed:    0.4s finished\n"
     ]
    }
   ],
   "source": [
    "las_params = {\"alpha\":[0.005,0.05,0.5]}\n",
    "las_grid = GridSearchCV(las, las_params, cv=5, verbose=10, scoring=\"neg_mean_absolute_error\")\n",
    "las_grid.fit(X_train, y_train)\n",
    "las_score = las_grid.cv_results_\n",
    "print(las_score)"
   ]
  },
  {
   "cell_type": "code",
   "execution_count": 73,
   "metadata": {},
   "outputs": [
    {
     "name": "stdout",
     "output_type": "stream",
     "text": [
      "{'alpha': 0.005}\n",
      "[-0.28200976 -0.39597499 -0.77640315]\n",
      "[{'alpha': 0.005}, {'alpha': 0.05}, {'alpha': 0.5}]\n"
     ]
    }
   ],
   "source": [
    "print(las_grid.best_params_)\n",
    "#print(\"test score:\", las_score[\"mean_test_score\"])\n",
    "#print(\"train score:\", las_score[\"mean_train_score\"])\n",
    "#print(las_score[\"split1_test_score\"])\n",
    "print(las_score[\"mean_test_score\"])\n",
    "print(las_score[\"params\"])"
   ]
  },
  {
   "cell_type": "code",
   "execution_count": null,
   "metadata": {},
   "outputs": [],
   "source": []
  },
  {
   "cell_type": "code",
   "execution_count": null,
   "metadata": {},
   "outputs": [],
   "source": []
  },
  {
   "cell_type": "code",
   "execution_count": null,
   "metadata": {},
   "outputs": [],
   "source": []
  },
  {
   "cell_type": "code",
   "execution_count": null,
   "metadata": {},
   "outputs": [],
   "source": []
  },
  {
   "cell_type": "code",
   "execution_count": null,
   "metadata": {},
   "outputs": [],
   "source": []
  },
  {
   "cell_type": "code",
   "execution_count": null,
   "metadata": {},
   "outputs": [],
   "source": []
  },
  {
   "cell_type": "markdown",
   "metadata": {},
   "source": [
    "## Decision tree"
   ]
  },
  {
   "cell_type": "code",
   "execution_count": 74,
   "metadata": {},
   "outputs": [],
   "source": [
    "from sklearn.tree import DecisionTreeRegressor"
   ]
  },
  {
   "cell_type": "code",
   "execution_count": 75,
   "metadata": {},
   "outputs": [],
   "source": [
    "y = df[\"SalePrice\"]\n",
    "df2 = df.drop([\"SalePrice\"],axis=1)\n",
    "X_train, X_test, y_train, y_test = train_test_split(df2, y, test_size=0.2, shuffle=True, random_state=1)"
   ]
  },
  {
   "cell_type": "raw",
   "metadata": {},
   "source": [
    "y = scaled_features_df[\"SalePrice\"]\n",
    "df2 = scaled_features_df.drop([\"SalePrice\"],axis=1)\n",
    "X_train, X_test, y_train, y_test = train_test_split(df2, y, test_size=0.2, shuffle=True, random_state=1)"
   ]
  },
  {
   "cell_type": "code",
   "execution_count": 76,
   "metadata": {},
   "outputs": [],
   "source": [
    "tree_reg = DecisionTreeRegressor(max_depth=5)"
   ]
  },
  {
   "cell_type": "code",
   "execution_count": 77,
   "metadata": {},
   "outputs": [
    {
     "data": {
      "text/plain": [
       "DecisionTreeRegressor(criterion='mse', max_depth=5, max_features=None,\n",
       "           max_leaf_nodes=None, min_impurity_decrease=0.0,\n",
       "           min_impurity_split=None, min_samples_leaf=1,\n",
       "           min_samples_split=2, min_weight_fraction_leaf=0.0,\n",
       "           presort=False, random_state=None, splitter='best')"
      ]
     },
     "execution_count": 77,
     "metadata": {},
     "output_type": "execute_result"
    }
   ],
   "source": [
    "tree_reg.fit(X_train, y_train)"
   ]
  },
  {
   "cell_type": "code",
   "execution_count": 78,
   "metadata": {},
   "outputs": [],
   "source": [
    "predictions = tree_reg.predict(X_test)"
   ]
  },
  {
   "cell_type": "code",
   "execution_count": 79,
   "metadata": {},
   "outputs": [
    {
     "data": {
      "text/plain": [
       "0.675517480990997"
      ]
     },
     "execution_count": 79,
     "metadata": {},
     "output_type": "execute_result"
    }
   ],
   "source": [
    "r2_score(y_test,predictions)"
   ]
  },
  {
   "cell_type": "code",
   "execution_count": 80,
   "metadata": {
    "scrolled": true
   },
   "outputs": [
    {
     "data": {
      "text/plain": [
       "Text(0, 0.5, 'Predictions')"
      ]
     },
     "execution_count": 80,
     "metadata": {},
     "output_type": "execute_result"
    },
    {
     "data": {
      "image/png": "[encoded data removed]",
      "text/plain": [
       "<Figure size 432x288 with 1 Axes>"
      ]
     },
     "metadata": {
      "needs_background": "light"
     },
     "output_type": "display_data"
    }
   ],
   "source": [
    "plt.scatter(y_test, predictions)\n",
    "plt.xlabel(\"True Values\")\n",
    "plt.ylabel(\"Predictions\")"
   ]
  },
  {
   "cell_type": "code",
   "execution_count": 81,
   "metadata": {},
   "outputs": [],
   "source": [
    "correct = 0\n",
    "not_correct = 0\n",
    "epsilon_j_tree = []\n",
    "corct_tree = []\n",
    "nocorct_tree = []\n",
    "for epsilon in np.arange(0,1,0.05):\n",
    "    \n",
    "    a = abs((inv_boxcox1p(predictions, 0.1) - inv_boxcox1p(y_test, 0.1))/inv_boxcox1p(y_test, 0.1)) <= epsilon\n",
    "    #print(a)\n",
    "    for i in a:\n",
    "        if i == True:\n",
    "            correct += 1\n",
    "        else:\n",
    "            not_correct += 1\n",
    "    #print(epsilon,\"--\" ,correct,\"--\",not_correct)\n",
    "    epsilon_j_tree = np.append(epsilon_j_tree,epsilon)\n",
    "    corct_tree = np.append(corct_tree,correct)\n",
    "    nocorct_tree = np.append(nocorct_tree,not_correct)\n",
    "    correct = 0\n",
    "    not_correct = 0\n",
    "    \n",
    "    #print(epsilon_j,\"--\",corct,\"---\",nocorct)"
   ]
  },
  {
   "cell_type": "code",
   "execution_count": 82,
   "metadata": {},
   "outputs": [
    {
     "data": {
      "image/png": "[encoded data removed]",
      "text/plain": [
       "<Figure size 432x288 with 1 Axes>"
      ]
     },
     "metadata": {
      "needs_background": "light"
     },
     "output_type": "display_data"
    }
   ],
   "source": [
    "a_tree = corct_tree + nocorct_tree\n",
    "#print(a_tree)\n",
    "b_tree = corct_tree/a_tree * 100\n",
    "#print (b_tree,\"---\",nocorct_tree)\n",
    "plt.plot(epsilon_j,b,\"r*\",label=\"linreg_no_norm\")\n",
    "#plt.plot(epsilon_j_norm,b_norm,\"bo\", label=\"lasso_norm\")\n",
    "plt.plot(epsilon_j_tree,b_tree,\"g*\",label=\"decision_tree\")\n",
    "\n",
    "plt.xlabel(\"tolerance\")\n",
    "plt.ylabel(\"% ofcorrect predictions\")\n",
    "plt.legend()\n",
    "plt.show()"
   ]
  },
  {
   "cell_type": "code",
   "execution_count": 83,
   "metadata": {},
   "outputs": [
    {
     "data": {
      "text/plain": [
       "0.468837929811177"
      ]
     },
     "execution_count": 83,
     "metadata": {},
     "output_type": "execute_result"
    }
   ],
   "source": [
    "mean_absolute_error(predictions,y_test)"
   ]
  },
  {
   "cell_type": "code",
   "execution_count": 84,
   "metadata": {},
   "outputs": [
    {
     "data": {
      "text/plain": [
       "0.6885359280578671"
      ]
     },
     "execution_count": 84,
     "metadata": {},
     "output_type": "execute_result"
    }
   ],
   "source": [
    "np.sqrt(mean_squared_error(predictions,y_test))"
   ]
  },
  {
   "cell_type": "markdown",
   "metadata": {},
   "source": [
    "## Random Forest"
   ]
  },
  {
   "cell_type": "raw",
   "metadata": {},
   "source": [
    "y = scaled_features_df[\"SalePrice\"]\n",
    "df2 = scaled_features_df.drop([\"SalePrice\"],axis=1)\n",
    "X_train, X_test, y_train, y_test = train_test_split(df2, y, test_size=0.2, shuffle=True, random_state=1)"
   ]
  },
  {
   "cell_type": "code",
   "execution_count": 85,
   "metadata": {},
   "outputs": [],
   "source": [
    "y = df[\"SalePrice\"]\n",
    "df2 = df.drop([\"SalePrice\"],axis=1)\n",
    "X_train, X_test, y_train, y_test = train_test_split(df2, y, test_size=0.2, shuffle=True, random_state=1)"
   ]
  },
  {
   "cell_type": "code",
   "execution_count": 86,
   "metadata": {},
   "outputs": [],
   "source": [
    "from sklearn.ensemble import RandomForestRegressor"
   ]
  },
  {
   "cell_type": "code",
   "execution_count": 87,
   "metadata": {},
   "outputs": [],
   "source": [
    "rfgr = RandomForestRegressor(max_depth=10,random_state=0,n_estimators=150)"
   ]
  },
  {
   "cell_type": "code",
   "execution_count": 88,
   "metadata": {},
   "outputs": [
    {
     "data": {
      "text/plain": [
       "RandomForestRegressor(bootstrap=True, criterion='mse', max_depth=10,\n",
       "           max_features='auto', max_leaf_nodes=None,\n",
       "           min_impurity_decrease=0.0, min_impurity_split=None,\n",
       "           min_samples_leaf=1, min_samples_split=2,\n",
       "           min_weight_fraction_leaf=0.0, n_estimators=150, n_jobs=None,\n",
       "           oob_score=False, random_state=0, verbose=0, warm_start=False)"
      ]
     },
     "execution_count": 88,
     "metadata": {},
     "output_type": "execute_result"
    }
   ],
   "source": [
    "rfgr.fit(X_train,y_train)"
   ]
  },
  {
   "cell_type": "code",
   "execution_count": 89,
   "metadata": {},
   "outputs": [],
   "source": [
    "predictions = rfgr.predict(X_test)"
   ]
  },
  {
   "cell_type": "code",
   "execution_count": 90,
   "metadata": {},
   "outputs": [
    {
     "data": {
      "text/plain": [
       "0.8448056983954947"
      ]
     },
     "execution_count": 90,
     "metadata": {},
     "output_type": "execute_result"
    }
   ],
   "source": [
    "r2_score(y_test,predictions)"
   ]
  },
  {
   "cell_type": "code",
   "execution_count": 91,
   "metadata": {},
   "outputs": [],
   "source": [
    "correct = 0\n",
    "not_correct = 0\n",
    "epsilon_j_rtree = []\n",
    "corct_rtree = []\n",
    "nocorct_rtree = []\n",
    "for epsilon in np.arange(0,1,0.05):\n",
    "    \n",
    "    a = abs((inv_boxcox1p(predictions, 0.1) - inv_boxcox1p(y_test, 0.1))/inv_boxcox1p(y_test, 0.1)) <= epsilon\n",
    "    #print(a)\n",
    "    for i in a:\n",
    "        if i == True:\n",
    "            correct += 1\n",
    "        else:\n",
    "            not_correct += 1\n",
    "    #print(epsilon,\"--\" ,correct,\"--\",not_correct)\n",
    "    epsilon_j_rtree = np.append(epsilon_j_rtree,epsilon)\n",
    "    corct_rtree = np.append(corct_rtree,correct)\n",
    "    nocorct_rtree = np.append(nocorct_rtree,not_correct)\n",
    "    correct = 0\n",
    "    not_correct = 0\n",
    "    \n",
    "    #print(epsilon_j,\"--\",corct,\"---\",nocorct)"
   ]
  },
  {
   "cell_type": "code",
   "execution_count": 103,
   "metadata": {},
   "outputs": [
    {
     "data": {
      "image/png": "[encoded data removed]",
      "text/plain": [
       "<Figure size 432x288 with 1 Axes>"
      ]
     },
     "metadata": {
      "needs_background": "light"
     },
     "output_type": "display_data"
    }
   ],
   "source": [
    "#from matplotlib.pyplot import figure\n",
    "#figure(num=None, figsize=(10, 6), dpi=100, facecolor='w', edgecolor='k')\n",
    "a_rtree = corct_rtree + nocorct_rtree\n",
    "#print(a_tree)\n",
    "b_rtree = corct_rtree/a_rtree * 100\n",
    "#print (b_tree,\"---\",nocorct_tree)\n",
    "plt.plot(epsilon_j,b,\"k.\",label=\"linreg_no_norm\")\n",
    "plt.plot(epsilon_j_norm,b_norm,\"m--\", label=\"lasso_norm\")\n",
    "#plt.plot(epsilon_j_tree,b_tree,\"g*\",label=\"decision_tree\")\n",
    "#plt.plot(epsilon_j_rtree,b_rtree,\"b\",label=\"rand_forest\")\n",
    "\n",
    "plt.xlabel(\"tolerance\")\n",
    "plt.ylabel(\"% ofcorrect predictions\")\n",
    "plt.legend()\n",
    "plt.show()"
   ]
  },
  {
   "cell_type": "code",
   "execution_count": null,
   "metadata": {},
   "outputs": [],
   "source": []
  }
 ],
 "metadata": {
  "kernelspec": {
   "display_name": "Python 3",
   "language": "python",
   "name": "python3"
  },
  "language_info": {
   "codemirror_mode": {
    "name": "ipython",
    "version": 3
   },
   "file_extension": ".py",
   "mimetype": "text/x-python",
   "name": "python",
   "nbconvert_exporter": "python",
   "pygments_lexer": "ipython3",
   "version": "3.6.4"
  }
 },
 "nbformat": 4,
 "nbformat_minor": 2
}
